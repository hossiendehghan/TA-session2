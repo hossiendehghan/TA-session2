{
 "cells": [
  {
   "cell_type": "markdown",
   "id": "b2e1ba87-d59d-4ae6-89c5-0aa584b91c6a",
   "metadata": {},
   "source": [
    "# Create a function called SUM_OF_LIST that returns the sum of all the integers in a given list after receiving it as input."
   ]
  },
  {
   "cell_type": "code",
   "execution_count": 7,
   "id": "4998209a-f1cc-4ae5-b5b1-f49731d3de1d",
   "metadata": {},
   "outputs": [
    {
     "name": "stdout",
     "output_type": "stream",
     "text": [
      "34\n"
     ]
    }
   ],
   "source": [
    "def calculate_sum(numbers):\n",
    "    return sum(numbers)\n",
    "\n",
    "input_list = [7, 9, 8, 10]   \n",
    "output = calculate_sum(input_list)\n",
    "print(output)"
   ]
  },
  {
   "cell_type": "markdown",
   "id": "bd692d80-3d5c-44d1-91de-3a251dcfa587",
   "metadata": {},
   "source": [
    " # Make a function called CHECK_KEY that takes as inputs a key and a dictionary. If the key is present in the dictionary, the function should return True; if not, it should return False."
   ]
  },
  {
   "cell_type": "code",
   "execution_count": 1,
   "id": "61807c3d-cf26-4d45-9936-5ef7e3f9418f",
   "metadata": {},
   "outputs": [
    {
     "ename": "SyntaxError",
     "evalue": "leading zeros in decimal integer literals are not permitted; use an 0o prefix for octal integers (3477779897.py, line 1)",
     "output_type": "error",
     "traceback": [
      "\u001b[1;36m  Cell \u001b[1;32mIn[1], line 1\u001b[1;36m\u001b[0m\n\u001b[1;33m    dict = {'name': 'hossein' ,'last name': 'dehghan', 'age': 22, 'phone' : 09173303984 , 'phone2':09128981125}\u001b[0m\n\u001b[1;37m                                                                            ^\u001b[0m\n\u001b[1;31mSyntaxError\u001b[0m\u001b[1;31m:\u001b[0m leading zeros in decimal integer literals are not permitted; use an 0o prefix for octal integers\n"
     ]
    }
   ],
   "source": [
    "dict = {'name': 'hossein' ,'last name': 'dehghan', 'age': 22, 'phone' : 09173303984 , 'phone2':09128981125}\n",
    "key = 'age'\n",
    "def CHECK_KEY(dict, key) :\n",
    "    return key in dict\n",
    "result = CHECK_KEY(dict, key)     \n",
    "print(result)"
   ]
  },
  {
   "cell_type": "code",
   "execution_count": 4,
   "id": "4b268dbf-12d8-4d3d-ae33-3d20af4e3cdb",
   "metadata": {},
   "outputs": [
    {
     "name": "stdout",
     "output_type": "stream",
     "text": [
      "True\n"
     ]
    }
   ],
   "source": [
    "my_dict = {\n",
    "    'name': 'hossein',\n",
    "    'last name': 'dehghan',\n",
    "    'age': 22,\n",
    "    'phone': '09173303984',  \n",
    "    'phone2': '09128981125' \n",
    "}\n",
    "key = 'age'\n",
    "\n",
    "def CHECK_KEY(dictionary, key):\n",
    "    return key in dictionary\n",
    "\n",
    "result = CHECK_KEY(my_dict, key)\n",
    "print(result)"
   ]
  },
  {
   "cell_type": "markdown",
   "id": "788b7eb6-71e0-447f-bd97-e281c899a3cd",
   "metadata": {},
   "source": [
    "# دلیل ارور کد اول به این دلیل بود که شماره تلفن در کتیشن نبود و این امر باعث میشد که شماره تلفن من به صورت عدد صحیح تلقی شود  و مورد دوم  اعدادی که اولشون با صفر شروع میشود در پایتون به عنوان اعداد صحیح خوانده نمیشود به این دلیل ما با ارور سینتکس مواجه شدیم"
   ]
  },
  {
   "cell_type": "markdown",
   "id": "8cf8da4f-ff83-4c49-8ac1-1b53452f0fef",
   "metadata": {},
   "source": [
    "#  Create the reverse_string function, which accepts a string as input and outputs the string in reverse."
   ]
  },
  {
   "cell_type": "code",
   "execution_count": 12,
   "id": "25eec373-d335-4ec0-9272-91d12d5d05ce",
   "metadata": {},
   "outputs": [
    {
     "data": {
      "text/plain": [
       "'ASORABRAB'"
      ]
     },
     "execution_count": 12,
     "metadata": {},
     "output_type": "execute_result"
    }
   ],
   "source": [
    "def reverse_text(text):\n",
    "    reversed_text = ''.join(reversed(text))  \n",
    "    return reversed_text\n",
    "\n",
    "text_input = \"BARBAROSA\"\n",
    "result = reverse_text(text_input)\n",
    "result"
   ]
  },
  {
   "cell_type": "code",
   "execution_count": null,
   "id": "c9f6d237-1321-4ab6-af87-dfe3b08a7175",
   "metadata": {},
   "outputs": [],
   "source": []
  }
 ],
 "metadata": {
  "kernelspec": {
   "display_name": "Python 3 (ipykernel)",
   "language": "python",
   "name": "python3"
  },
  "language_info": {
   "codemirror_mode": {
    "name": "ipython",
    "version": 3
   },
   "file_extension": ".py",
   "mimetype": "text/x-python",
   "name": "python",
   "nbconvert_exporter": "python",
   "pygments_lexer": "ipython3",
   "version": "3.12.1"
  }
 },
 "nbformat": 4,
 "nbformat_minor": 5
}
